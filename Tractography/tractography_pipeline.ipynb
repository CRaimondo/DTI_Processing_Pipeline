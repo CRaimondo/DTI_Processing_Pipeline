{
 "cells": [
  {
   "cell_type": "markdown",
   "metadata": {},
   "source": [
    "# Command Line version: \n",
    "\n",
    "### Estimate response function for spherical deconvolution (outputs out.txt)\n",
    "dwi2response tournier denoise.mif out.txt\n",
    "\n",
    "### Estimate fibre orientation distributions (outputs fod.mif)\n",
    "dwi2fod csd denoise.mif out.txt fod.mif -mask mask.nii\n",
    "\n",
    "### Perform streamlines tractography (outputs tract.tck)\n",
    "tckgen fod.mif tract.tck -seed_image mask.nii -mask mask.nii -select 10000000 \n",
    "\n",
    "### Use track data to produce high-resolution image (outputs tdi.nii)\n",
    "tckmap tract.tck tdi.nii -template b0.nii"
   ]
  },
  {
   "cell_type": "code",
   "execution_count": 3,
   "metadata": {},
   "outputs": [
    {
     "name": "stdout",
     "output_type": "stream",
     "text": [
      "MRTRIX_NTHREADS is Not set\n",
      "starting processing of Acchione_Colleen.\n",
      "Running: Converting to mif format\n"
     ]
    },
    {
     "name": "stderr",
     "output_type": "stream",
     "text": [
      "Processing Tractography:  25%|██▌       | 1/4 [00:00<00:00,  7.89step/s]"
     ]
    },
    {
     "name": "stdout",
     "output_type": "stream",
     "text": [
      "Running: Estimating response function for spherical deconvolution\n",
      "Command failed with code 1: dwi2response: \n",
      "dwi2response: Note that this script makes use of commands / algorithms that have relevant articles for citation. Please consult the help page (-help option) for more information.\n",
      "dwi2response: \n",
      "\n",
      "dwi2response: [ERROR] Script requires diffusion gradient table: either in image header, or using -grad / -fslgrad option\n",
      "\n",
      "Running: Estimating fibre orientation distributions\n",
      "Command failed with code 1: dwi2fod: \u001b[01;31m[ERROR] no valid diffusion gradient table found\u001b[0m\n",
      "dwi2fod: \u001b[01;31m[ERROR] error importing diffusion gradient table for image \"/media/jimric/Mahdi-2022/Laxman_PD_Project/MAP_complete/Acchione_Colleen/dti_outputs/denoise.mif\"\u001b[0m\n",
      "\n",
      "Running: Performing streamlines tractography\n"
     ]
    },
    {
     "name": "stderr",
     "output_type": "stream",
     "text": [
      "Processing Tractography: 100%|██████████| 4/4 [00:00<00:00, 14.15step/s]\n"
     ]
    },
    {
     "name": "stdout",
     "output_type": "stream",
     "text": [
      "Command failed with code 1: tckgen: \u001b[01;31m[ERROR] failed to open key/value file \"/media/jimric/Mahdi-2022/Laxman_PD_Project/MAP_complete/Acchione_Colleen/tractography_outputs/fod.mif\": No such file or directory\u001b[0m\n",
      "tckgen: \u001b[01;31m[ERROR] error opening image \"/media/jimric/Mahdi-2022/Laxman_PD_Project/MAP_complete/Acchione_Colleen/tractography_outputs/fod.mif\"\u001b[0m\n",
      "\n",
      "Running: Generating final image\n",
      "Command failed with code 1: tckmap: \u001b[01;31m[ERROR] required input file \"/media/jimric/Mahdi-2022/Laxman_PD_Project/MAP_complete/Acchione_Colleen/tractography_outputs/tract.tck\" not found\u001b[0m\n",
      "\n",
      "/media/jimric/Mahdi-2022/Laxman_PD_Project/MAP_complete/Acchione_Colleen processing completed successfully.\n",
      "starting processing of Adams_JoshuaAnthony.\n",
      "Running: Converting to mif format\n"
     ]
    },
    {
     "ename": "KeyboardInterrupt",
     "evalue": "",
     "output_type": "error",
     "traceback": [
      "\u001b[0;31m---------------------------------------------------------------------------\u001b[0m",
      "\u001b[0;31mKeyboardInterrupt\u001b[0m                         Traceback (most recent call last)",
      "Cell \u001b[0;32mIn[3], line 66\u001b[0m\n\u001b[1;32m     64\u001b[0m \u001b[38;5;28;01mtry\u001b[39;00m:\n\u001b[1;32m     65\u001b[0m     \u001b[38;5;28mprint\u001b[39m(\u001b[38;5;124mf\u001b[39m\u001b[38;5;124m\"\u001b[39m\u001b[38;5;124mstarting processing of \u001b[39m\u001b[38;5;132;01m{\u001b[39;00mpatient\u001b[38;5;132;01m}\u001b[39;00m\u001b[38;5;124m.\u001b[39m\u001b[38;5;124m\"\u001b[39m)\n\u001b[0;32m---> 66\u001b[0m     \u001b[43mtracto\u001b[49m\u001b[43m(\u001b[49m\u001b[43mpatient_dir\u001b[49m\u001b[43m)\u001b[49m\n\u001b[1;32m     67\u001b[0m     \u001b[38;5;28mprint\u001b[39m(\u001b[38;5;124mf\u001b[39m\u001b[38;5;124m\"\u001b[39m\u001b[38;5;132;01m{\u001b[39;00mpatient_dir\u001b[38;5;132;01m}\u001b[39;00m\u001b[38;5;124m processing completed successfully.\u001b[39m\u001b[38;5;124m\"\u001b[39m)\n\u001b[1;32m     68\u001b[0m \u001b[38;5;28;01mexcept\u001b[39;00m \u001b[38;5;167;01mException\u001b[39;00m \u001b[38;5;28;01mas\u001b[39;00m e:\n",
      "Cell \u001b[0;32mIn[3], line 40\u001b[0m, in \u001b[0;36mtracto\u001b[0;34m(patient_dir)\u001b[0m\n\u001b[1;32m     37\u001b[0m denoise_path \u001b[38;5;241m=\u001b[39m os\u001b[38;5;241m.\u001b[39mpath\u001b[38;5;241m.\u001b[39mjoin(input_dir, \u001b[38;5;124m\"\u001b[39m\u001b[38;5;124mdti_denoise.nii.gz\u001b[39m\u001b[38;5;124m\"\u001b[39m)\n\u001b[1;32m     39\u001b[0m \u001b[38;5;66;03m#converts denoise.nii to mif format (tractography commands require mif format)\u001b[39;00m\n\u001b[0;32m---> 40\u001b[0m \u001b[43mrun_command\u001b[49m\u001b[43m(\u001b[49m\u001b[38;5;124;43mf\u001b[39;49m\u001b[38;5;124;43m\"\u001b[39;49m\u001b[38;5;124;43mmrconvert \u001b[39;49m\u001b[38;5;132;43;01m{\u001b[39;49;00m\u001b[43mdenoise_path\u001b[49m\u001b[38;5;132;43;01m}\u001b[39;49;00m\u001b[38;5;124;43m \u001b[39;49m\u001b[38;5;132;43;01m{\u001b[39;49;00m\u001b[43minput_dir\u001b[49m\u001b[38;5;132;43;01m}\u001b[39;49;00m\u001b[38;5;124;43m/denoise.mif\u001b[39;49m\u001b[38;5;124;43m\"\u001b[39;49m\u001b[43m,\u001b[49m\u001b[43m \u001b[49m\u001b[38;5;124;43m\"\u001b[39;49m\u001b[38;5;124;43mConverting to mif format\u001b[39;49m\u001b[38;5;124;43m\"\u001b[39;49m\u001b[43m)\u001b[49m\n\u001b[1;32m     42\u001b[0m denoise_mif_path \u001b[38;5;241m=\u001b[39m os\u001b[38;5;241m.\u001b[39mpath\u001b[38;5;241m.\u001b[39mjoin(input_dir, \u001b[38;5;124m\"\u001b[39m\u001b[38;5;124mdenoise.mif\u001b[39m\u001b[38;5;124m\"\u001b[39m)\n\u001b[1;32m     44\u001b[0m \u001b[38;5;28;01mfor\u001b[39;00m i, step_name \u001b[38;5;129;01min\u001b[39;00m \u001b[38;5;28menumerate\u001b[39m(tqdm(steps, desc\u001b[38;5;241m=\u001b[39m\u001b[38;5;124m\"\u001b[39m\u001b[38;5;124mProcessing Tractography\u001b[39m\u001b[38;5;124m\"\u001b[39m, unit\u001b[38;5;241m=\u001b[39m\u001b[38;5;124m\"\u001b[39m\u001b[38;5;124mstep\u001b[39m\u001b[38;5;124m\"\u001b[39m)):\n",
      "Cell \u001b[0;32mIn[3], line 24\u001b[0m, in \u001b[0;36mrun_command\u001b[0;34m(command, step_name)\u001b[0m\n\u001b[1;32m     22\u001b[0m \u001b[38;5;28;01mdef\u001b[39;00m \u001b[38;5;21mrun_command\u001b[39m(command, step_name):\n\u001b[1;32m     23\u001b[0m     \u001b[38;5;28mprint\u001b[39m(\u001b[38;5;124mf\u001b[39m\u001b[38;5;124m\"\u001b[39m\u001b[38;5;124mRunning: \u001b[39m\u001b[38;5;132;01m{\u001b[39;00mstep_name\u001b[38;5;132;01m}\u001b[39;00m\u001b[38;5;124m\"\u001b[39m)\n\u001b[0;32m---> 24\u001b[0m     result \u001b[38;5;241m=\u001b[39m \u001b[43msubprocess\u001b[49m\u001b[38;5;241;43m.\u001b[39;49m\u001b[43mrun\u001b[49m\u001b[43m(\u001b[49m\u001b[43mcommand\u001b[49m\u001b[43m,\u001b[49m\u001b[43m \u001b[49m\u001b[43mshell\u001b[49m\u001b[38;5;241;43m=\u001b[39;49m\u001b[38;5;28;43;01mTrue\u001b[39;49;00m\u001b[43m,\u001b[49m\u001b[43m \u001b[49m\u001b[43mtext\u001b[49m\u001b[38;5;241;43m=\u001b[39;49m\u001b[38;5;28;43;01mTrue\u001b[39;49;00m\u001b[43m,\u001b[49m\u001b[43m \u001b[49m\u001b[43mstdout\u001b[49m\u001b[38;5;241;43m=\u001b[39;49m\u001b[43msubprocess\u001b[49m\u001b[38;5;241;43m.\u001b[39;49m\u001b[43mPIPE\u001b[49m\u001b[43m,\u001b[49m\u001b[43m \u001b[49m\u001b[43mstderr\u001b[49m\u001b[38;5;241;43m=\u001b[39;49m\u001b[43msubprocess\u001b[49m\u001b[38;5;241;43m.\u001b[39;49m\u001b[43mPIPE\u001b[49m\u001b[43m)\u001b[49m\n\u001b[1;32m     25\u001b[0m     \u001b[38;5;28;01mif\u001b[39;00m result\u001b[38;5;241m.\u001b[39mreturncode \u001b[38;5;241m!=\u001b[39m \u001b[38;5;241m0\u001b[39m:\n\u001b[1;32m     26\u001b[0m         \u001b[38;5;28mprint\u001b[39m(\u001b[38;5;124mf\u001b[39m\u001b[38;5;124m\"\u001b[39m\u001b[38;5;124mCommand failed with code \u001b[39m\u001b[38;5;132;01m{\u001b[39;00mresult\u001b[38;5;241m.\u001b[39mreturncode\u001b[38;5;132;01m}\u001b[39;00m\u001b[38;5;124m: \u001b[39m\u001b[38;5;132;01m{\u001b[39;00mresult\u001b[38;5;241m.\u001b[39mstderr\u001b[38;5;132;01m}\u001b[39;00m\u001b[38;5;124m\"\u001b[39m)\n",
      "File \u001b[0;32m/usr/local/fsl/lib/python3.10/subprocess.py:505\u001b[0m, in \u001b[0;36mrun\u001b[0;34m(input, capture_output, timeout, check, *popenargs, **kwargs)\u001b[0m\n\u001b[1;32m    503\u001b[0m \u001b[38;5;28;01mwith\u001b[39;00m Popen(\u001b[38;5;241m*\u001b[39mpopenargs, \u001b[38;5;241m*\u001b[39m\u001b[38;5;241m*\u001b[39mkwargs) \u001b[38;5;28;01mas\u001b[39;00m process:\n\u001b[1;32m    504\u001b[0m     \u001b[38;5;28;01mtry\u001b[39;00m:\n\u001b[0;32m--> 505\u001b[0m         stdout, stderr \u001b[38;5;241m=\u001b[39m \u001b[43mprocess\u001b[49m\u001b[38;5;241;43m.\u001b[39;49m\u001b[43mcommunicate\u001b[49m\u001b[43m(\u001b[49m\u001b[38;5;28;43minput\u001b[39;49m\u001b[43m,\u001b[49m\u001b[43m \u001b[49m\u001b[43mtimeout\u001b[49m\u001b[38;5;241;43m=\u001b[39;49m\u001b[43mtimeout\u001b[49m\u001b[43m)\u001b[49m\n\u001b[1;32m    506\u001b[0m     \u001b[38;5;28;01mexcept\u001b[39;00m TimeoutExpired \u001b[38;5;28;01mas\u001b[39;00m exc:\n\u001b[1;32m    507\u001b[0m         process\u001b[38;5;241m.\u001b[39mkill()\n",
      "File \u001b[0;32m/usr/local/fsl/lib/python3.10/subprocess.py:1154\u001b[0m, in \u001b[0;36mPopen.communicate\u001b[0;34m(self, input, timeout)\u001b[0m\n\u001b[1;32m   1151\u001b[0m     endtime \u001b[38;5;241m=\u001b[39m \u001b[38;5;28;01mNone\u001b[39;00m\n\u001b[1;32m   1153\u001b[0m \u001b[38;5;28;01mtry\u001b[39;00m:\n\u001b[0;32m-> 1154\u001b[0m     stdout, stderr \u001b[38;5;241m=\u001b[39m \u001b[38;5;28;43mself\u001b[39;49m\u001b[38;5;241;43m.\u001b[39;49m\u001b[43m_communicate\u001b[49m\u001b[43m(\u001b[49m\u001b[38;5;28;43minput\u001b[39;49m\u001b[43m,\u001b[49m\u001b[43m \u001b[49m\u001b[43mendtime\u001b[49m\u001b[43m,\u001b[49m\u001b[43m \u001b[49m\u001b[43mtimeout\u001b[49m\u001b[43m)\u001b[49m\n\u001b[1;32m   1155\u001b[0m \u001b[38;5;28;01mexcept\u001b[39;00m \u001b[38;5;167;01mKeyboardInterrupt\u001b[39;00m:\n\u001b[1;32m   1156\u001b[0m     \u001b[38;5;66;03m# https://bugs.python.org/issue25942\u001b[39;00m\n\u001b[1;32m   1157\u001b[0m     \u001b[38;5;66;03m# See the detailed comment in .wait().\u001b[39;00m\n\u001b[1;32m   1158\u001b[0m     \u001b[38;5;28;01mif\u001b[39;00m timeout \u001b[38;5;129;01mis\u001b[39;00m \u001b[38;5;129;01mnot\u001b[39;00m \u001b[38;5;28;01mNone\u001b[39;00m:\n",
      "File \u001b[0;32m/usr/local/fsl/lib/python3.10/subprocess.py:2005\u001b[0m, in \u001b[0;36mPopen._communicate\u001b[0;34m(self, input, endtime, orig_timeout)\u001b[0m\n\u001b[1;32m   1998\u001b[0m     \u001b[38;5;28mself\u001b[39m\u001b[38;5;241m.\u001b[39m_check_timeout(endtime, orig_timeout,\n\u001b[1;32m   1999\u001b[0m                         stdout, stderr,\n\u001b[1;32m   2000\u001b[0m                         skip_check_and_raise\u001b[38;5;241m=\u001b[39m\u001b[38;5;28;01mTrue\u001b[39;00m)\n\u001b[1;32m   2001\u001b[0m     \u001b[38;5;28;01mraise\u001b[39;00m \u001b[38;5;167;01mRuntimeError\u001b[39;00m(  \u001b[38;5;66;03m# Impossible :)\u001b[39;00m\n\u001b[1;32m   2002\u001b[0m         \u001b[38;5;124m'\u001b[39m\u001b[38;5;124m_check_timeout(..., skip_check_and_raise=True) \u001b[39m\u001b[38;5;124m'\u001b[39m\n\u001b[1;32m   2003\u001b[0m         \u001b[38;5;124m'\u001b[39m\u001b[38;5;124mfailed to raise TimeoutExpired.\u001b[39m\u001b[38;5;124m'\u001b[39m)\n\u001b[0;32m-> 2005\u001b[0m ready \u001b[38;5;241m=\u001b[39m \u001b[43mselector\u001b[49m\u001b[38;5;241;43m.\u001b[39;49m\u001b[43mselect\u001b[49m\u001b[43m(\u001b[49m\u001b[43mtimeout\u001b[49m\u001b[43m)\u001b[49m\n\u001b[1;32m   2006\u001b[0m \u001b[38;5;28mself\u001b[39m\u001b[38;5;241m.\u001b[39m_check_timeout(endtime, orig_timeout, stdout, stderr)\n\u001b[1;32m   2008\u001b[0m \u001b[38;5;66;03m# XXX Rewrite these to use non-blocking I/O on the file\u001b[39;00m\n\u001b[1;32m   2009\u001b[0m \u001b[38;5;66;03m# objects; they are no longer using C stdio!\u001b[39;00m\n",
      "File \u001b[0;32m/usr/local/fsl/lib/python3.10/selectors.py:416\u001b[0m, in \u001b[0;36m_PollLikeSelector.select\u001b[0;34m(self, timeout)\u001b[0m\n\u001b[1;32m    414\u001b[0m ready \u001b[38;5;241m=\u001b[39m []\n\u001b[1;32m    415\u001b[0m \u001b[38;5;28;01mtry\u001b[39;00m:\n\u001b[0;32m--> 416\u001b[0m     fd_event_list \u001b[38;5;241m=\u001b[39m \u001b[38;5;28;43mself\u001b[39;49m\u001b[38;5;241;43m.\u001b[39;49m\u001b[43m_selector\u001b[49m\u001b[38;5;241;43m.\u001b[39;49m\u001b[43mpoll\u001b[49m\u001b[43m(\u001b[49m\u001b[43mtimeout\u001b[49m\u001b[43m)\u001b[49m\n\u001b[1;32m    417\u001b[0m \u001b[38;5;28;01mexcept\u001b[39;00m \u001b[38;5;167;01mInterruptedError\u001b[39;00m:\n\u001b[1;32m    418\u001b[0m     \u001b[38;5;28;01mreturn\u001b[39;00m ready\n",
      "\u001b[0;31mKeyboardInterrupt\u001b[0m: "
     ]
    }
   ],
   "source": [
    "import os\n",
    "os.environ['PATH'] += ':/Users/christianraimondo/ants-2.5.0/bin'\n",
    "nthreads = os.environ.get('MRTRIX_NTHREADS', 'Not set')\n",
    "print(f'MRTRIX_NTHREADS is {nthreads}')\n",
    "\n",
    "import tempfile\n",
    "import subprocess\n",
    "from tqdm import tqdm\n",
    "import numpy as np\n",
    "import nibabel as nib\n",
    "from dipy.denoise.nlmeans import nlmeans\n",
    "from dipy.denoise.noise_estimate import estimate_sigma\n",
    "from dipy.reconst.dti import gradient_table, TensorModel\n",
    "from dipy.reconst.dti import fractional_anisotropy, mean_diffusivity, color_fa\n",
    "from dipy.core.gradients import gradient_table\n",
    "import nibabel as nib\n",
    "from dipy.reconst.dti import TensorModel, mean_diffusivity, decompose_tensor\n",
    "import shutil   \n",
    "from dipy.io import read_bvals_bvecs\n",
    "\n",
    "\n",
    "def run_command(command, step_name):\n",
    "    print(f\"Running: {step_name}\")\n",
    "    result = subprocess.run(command, shell=True, text=True, stdout=subprocess.PIPE, stderr=subprocess.PIPE)\n",
    "    if result.returncode != 0:\n",
    "        print(f\"Command failed with code {result.returncode}: {result.stderr}\")\n",
    "    return result\n",
    "\n",
    "\n",
    "def tracto(patient_dir):\n",
    "    steps = [\"Estimating response function for spherical deconvolution\", \"Estimating fibre orientation distributions\", \"Performing streamlines tractography\", \"Generating final image\"]\n",
    "    \n",
    "    input_dir = os.path.join(patient_dir,\"dti_outputs\" )\n",
    "    output_dir = os.path.join(patient_dir, \"tractography_outputs\")\n",
    "    os.makedirs(output_dir, exist_ok=True)\n",
    "\n",
    "    denoise_path = os.path.join(input_dir, \"dti_denoise_preproc_unbiased.mif\")\n",
    "    \n",
    "    for i, step_name in enumerate(tqdm(steps, desc=\"Processing Tractography\", unit=\"step\")):\n",
    "        if step_name == \"Estimating response function for spherical deconvolution\":\n",
    "            run_command(f\"dwi2response dhollander {denoise_path} {output_dir}/wm_response.txt {output_dir}/gm_response.txt {output_dir}/csf_response.txt -mask {input_dir}/mask.nii -fslgrad {input_dir}/bvec.bvec {input_dir}/bval.bval\", step_name)\n",
    "\n",
    "        elif step_name == \"Estimating fibre orientation distributions\":\n",
    "            run_command(f\"dwi2fod msmt_csd {denoise_path} {output_dir}/out.txt {output_dir}/wmfod.mif {output_dir}/response_gm.txt {output_dir}/gm.mif {output_dir}/response_csf.txt {output_dir}/csf.mif -mask {input_dir}/mask.nii -fslgrad {input_dir}/bvec.bvec {input_dir}/bval.bval\", step_name)\n",
    "        \n",
    "        elif step_name == \"Performing streamlines tractography\":\n",
    "            run_command(f\"tckgen {output_dir}/wmfod.mif {output_dir}/tract.tck -seed_image {input_dir}/mask.nii -mask {input_dir}/mask.nii -select 10000000 -fslgrad bvec.bvec bval.bval\", step_name)\n",
    "        \n",
    "        elif step_name == \"Generating final image\":\n",
    "            run_command(f\"tckmap {output_dir}/tract.tck {output_dir}/tdi.nii -template {input_dir}/b0.nii\", step_name)\n",
    "\n",
    "#this is the folder with all of the pt folders in it\n",
    "base_path = \"/media/jimric/Mahdi-2022/Laxman_PD_Project/MAP_complete/\"\n",
    "\n",
    "patient_list = os.listdir(base_path)\n",
    "\n",
    "for patient in patient_list:\n",
    "    patient_dir = os.path.join(base_path, patient)\n",
    "    try:\n",
    "        print(f\"starting processing of {patient}.\")\n",
    "        tracto(patient_dir)\n",
    "        print(f\"{patient_dir} processing completed successfully.\")\n",
    "    except Exception as e:\n",
    "        print(f\"Error while processing {patient}: {str(e)}\")"
   ]
  }
 ],
 "metadata": {
  "kernelspec": {
   "display_name": "base",
   "language": "python",
   "name": "python3"
  },
  "language_info": {
   "codemirror_mode": {
    "name": "ipython",
    "version": 3
   },
   "file_extension": ".py",
   "mimetype": "text/x-python",
   "name": "python",
   "nbconvert_exporter": "python",
   "pygments_lexer": "ipython3",
   "version": "3.10.10"
  }
 },
 "nbformat": 4,
 "nbformat_minor": 2
}
