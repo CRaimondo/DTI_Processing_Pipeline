{
 "cells": [
  {
   "cell_type": "code",
   "execution_count": 2,
   "metadata": {},
   "outputs": [
    {
     "data": {
      "application/vnd.jupyter.widget-view+json": {
       "model_id": "11c6ca7ae0ab40b688e3c9713363d499",
       "version_major": 2,
       "version_minor": 0
      },
      "text/plain": [
       "VBox(children=(Text(value='patient_id1, patient_id2', description='Patient IDs:'), Checkbox(value=False, descr…"
      ]
     },
     "metadata": {},
     "output_type": "display_data"
    },
    {
     "data": {
      "application/vnd.jupyter.widget-view+json": {
       "model_id": "c3abc133630740e0a2cb2f31390445d7",
       "version_major": 2,
       "version_minor": 0
      },
      "text/plain": [
       "Button(description='Run Registration', style=ButtonStyle())"
      ]
     },
     "metadata": {},
     "output_type": "display_data"
    },
    {
     "data": {
      "application/vnd.jupyter.widget-view+json": {
       "model_id": "47a2ac187b794decb24a441d84247498",
       "version_major": 2,
       "version_minor": 0
      },
      "text/plain": [
       "Output()"
      ]
     },
     "metadata": {},
     "output_type": "display_data"
    }
   ],
   "source": [
    "import os\n",
    "import subprocess\n",
    "from ipywidgets import widgets, VBox, Button, Output\n",
    "from tqdm.notebook import tqdm\n",
    "from IPython.display import display\n",
    "\n",
    "# Define paths to your atlas files and MNI space file\n",
    "atlas_paths = {\n",
    "    'network': '/path/to/network_ROIs.nii',\n",
    "    'visual': '/path/to/visual_ROIs.nii',\n",
    "    'motor': '/path/to/motor_ROIs.nii'\n",
    "}\n",
    "mni_path = '/path/to/bet_mni.nii'\n",
    "\n",
    "def mirtk_registration(patient_ids, register_network, register_visual, register_motor):\n",
    "    for patient_id in patient_ids.split(','):  # Splitting the input string by commas\n",
    "        patient_dir = f'/path/to/directory/{patient_id.strip()}/dti_outputs'  # .strip() to remove any leading/trailing whitespace\n",
    "        os.chdir(patient_dir)\n",
    "\n",
    "        b0_nii_path = 'b0.nii'\n",
    "        b0_exists = os.path.exists(b0_nii_path)\n",
    "\n",
    "        total_steps = 3 + sum([register_network, register_visual, register_motor])  # Initial steps + conditional atlas registrations\n",
    "        progress = tqdm(total=total_steps, desc=f'Total Progress for {patient_id.strip()}')\n",
    "\n",
    "        # Check if b0.nii already exists; if not, convert b0.mif to b0.nii\n",
    "        if not b0_exists:\n",
    "            subprocess.run(['mrconvert', 'b0.mif', b0_nii_path])\n",
    "            progress.update(1)  # Update progress after conversion\n",
    "        else:\n",
    "            progress.update(1)  # Update progress, acknowledging that b0.nii was already present\n",
    "\n",
    "        # BET extraction\n",
    "        subprocess.run(['bet', b0_nii_path, 'bet_b0.nii', '-m', '-f', 0.25])\n",
    "        progress.update(1)  # Update progress after BET extraction\n",
    "\n",
    "        # MNI registration\n",
    "        subprocess.run(['mirtk', 'register', '-image', 'bet_b0.nii.gz', mni_path,\n",
    "                        '-dofout', 'transfomation.txt', '-output', 'r_mni.nii'])\n",
    "        progress.update(1)  # Update progress after MNI registration\n",
    "\n",
    "        # Perform atlas registrations based on user input\n",
    "        for atlas_type, do_register in [('network', register_network), \n",
    "                                        ('visual', register_visual), \n",
    "                                        ('motor', register_motor)]:\n",
    "            if do_register:\n",
    "                atlas_path = atlas_paths[atlas_type]\n",
    "                output_path = f'r_{atlas_type}_ROI.nii'\n",
    "                subprocess.run(['mirtk', 'transform-image', atlas_path, output_path,\n",
    "                                '-target', 'bet_b0.nii.gz', '-dofin', 'transfomation.txt', '-interp', 'NN'])\n",
    "                progress.update(1)  # Update progress after each atlas registration\n",
    "\n",
    "        progress.close()  # Close the progress bar when done\n",
    "        print(f'Registration complete for patient: {patient_id.strip()}')\n",
    "\n",
    "# Interactive Widgets\n",
    "patient_id_widget = widgets.Text(value='patient_id1, patient_id2', description='Patient IDs:', disabled=False)\n",
    "network_widget = widgets.Checkbox(value=False, description='Register Network Areas', disabled=False)\n",
    "visual_widget = widgets.Checkbox(value=False, description='Register Visual Areas', disabled=False)\n",
    "motor_widget = widgets.Checkbox(value=False, description='Register Motor Areas', disabled=False)\n",
    "\n",
    "ui = VBox([patient_id_widget, network_widget, visual_widget, motor_widget])\n",
    "out = Output()\n",
    "\n",
    "def on_button_clicked(_):\n",
    "    with out:\n",
    "        out.clear_output()\n",
    "        mirtk_registration(patient_id_widget.value, network_widget.value, visual_widget.value, motor_widget.value)\n",
    "\n",
    "button = Button(description=\"Run Registration\")\n",
    "button.on_click(on_button_clicked)\n",
    "\n",
    "display(ui, button, out)\n"
   ]
  }
 ],
 "metadata": {
  "kernelspec": {
   "display_name": "Python 3",
   "language": "python",
   "name": "python3"
  },
  "language_info": {
   "codemirror_mode": {
    "name": "ipython",
    "version": 3
   },
   "file_extension": ".py",
   "mimetype": "text/x-python",
   "name": "python",
   "nbconvert_exporter": "python",
   "pygments_lexer": "ipython3",
   "version": "3.9.6"
  }
 },
 "nbformat": 4,
 "nbformat_minor": 2
}
