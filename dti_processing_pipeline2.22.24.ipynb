{
 "cells": [
  {
   "cell_type": "markdown",
   "metadata": {},
   "source": [
    "## Command line version -- (final version that was used to convert to python script)\n",
    "# Command Line Commands:\n",
    "\n",
    "cd /Volumes/CDR1TB/dwi_processing_test_cmdline/Manzo_Peter_DTI_test\n",
    "\n",
    "## Command line version -- final version need to convert to python script\n",
    "cd /Volumes/CDR1TB/dwi_processing_test_cmdline/Moses_Meghan/Moses_Meghan_DTI\n",
    "\n",
    "# Convert dti.nii to mrtrix format (creates dti.mif)\n",
    "mrconvert -fslgrad bvec.bvec bval.bval dti.nii dti.mif -force\n",
    "\n",
    "# Denoise and view output residual\n",
    "dwidenoise dti.mif dti_denoise.mif -noise noise.mif -force\n",
    "mrcalc dti.mif dti_denoise.mif -subtract residual.mif -force\n",
    "mrview residual.mif\n",
    "\n",
    "# Extract b0.nii file (creates b0.nii)\n",
    "dwiextract -bzero dti_denoise.mif b0.mif -force\n",
    "\n",
    "# Pre-process\n",
    "dwifslpreproc dti_denoise.mif dti_denoise_preproc.mif -nocleanup -rpe_none -pe_dir AP -eddy_options \" --slm=linear --data_is_shelled\" -force\n",
    "\n",
    "mrconvert dti_denoise_preproc.mif dti_denoise_preproc.nii -force\n",
    "\n",
    "# N4bias correction\n",
    "dwibiascorrect ants dti_denoise_preproc.mif dti_denoise_preproc_unbiased.mif -bias bias.mif -force\n",
    "mrview dti_denoise_preproc_unbiased.mif -overlay.load dti.mif\n",
    "mrconvert dti_denoise_preproc_unbiased.mif dti_denoise_preproc_unbiased.nii -force\n",
    "\n",
    "# Create brain mask\n",
    "dwi2mask dti_denoise_preproc_unbiased.mif mask.mif -force\n",
    "mrconvert mask.mif mask.nii -force\n",
    "\n",
    "# Fit DTI tensors using dti_denoise_preproc_unbiased.nii, mask.nii, bvec & bval (creates nii.gz files of FA,MD,MO,S0,L1,L2,L3,V1,V2,V3)\n",
    "dtifit -k dti_denoise_preproc_unbiased.nii -o m -m mask.nii -r bvec.bvec -b bval.bval\n"
   ]
  },
  {
   "cell_type": "markdown",
   "metadata": {},
   "source": [
    "## Updated DTI Processing Pipeline using DIPY -- Run in Jupyter Notebook"
   ]
  },
  {
   "cell_type": "code",
   "execution_count": 1,
   "metadata": {},
   "outputs": [
    {
     "name": "stdout",
     "output_type": "stream",
     "text": [
      "MRTRIX_NTHREADS is Not set\n",
      "Starting Processing of Christburgh_Paris\n"
     ]
    },
    {
     "name": "stderr",
     "output_type": "stream",
     "text": [
      "Processing DTI Data:  12%|█▎        | 1/8 [00:00<00:00, 115.16step/s]\n"
     ]
    },
    {
     "name": "stdout",
     "output_type": "stream",
     "text": [
      "Running: Convert to MRtrix\n",
      "Command failed with code 1: mrconvert: \u001b[00;31m[WARNING] existing output files will be overwritten\u001b[0m\n",
      "mrconvert: \u001b[01;31m[ERROR] input file \"/media/jimric/CDR1TB/PD_DWI_PROCESSING/Processing_Laxman/Reprocessing/Christburgh_Paris/Christburgh_Paris_DTI/bvec.bvec\" for option \"-fslgrad\" not found\u001b[0m\n",
      "\n",
      "Running: Denoising\n",
      "Error while processing Christburgh_Paris: No such file or no access: '/media/jimric/CDR1TB/PD_DWI_PROCESSING/Processing_Laxman/Reprocessing/Christburgh_Paris/Christburgh_Paris_DTI/dti.nii.gz'\n",
      "Starting Processing of Christburgh_Paris_2\n"
     ]
    },
    {
     "name": "stderr",
     "output_type": "stream",
     "text": [
      "Processing DTI Data:  12%|█▎        | 1/8 [00:00<00:00, 117.96step/s]\n"
     ]
    },
    {
     "name": "stdout",
     "output_type": "stream",
     "text": [
      "Running: Convert to MRtrix\n",
      "Command failed with code 1: mrconvert: \u001b[00;31m[WARNING] existing output files will be overwritten\u001b[0m\n",
      "mrconvert: \u001b[01;31m[ERROR] input file \"/media/jimric/CDR1TB/PD_DWI_PROCESSING/Processing_Laxman/Reprocessing/Christburgh_Paris_2/Christburgh_Paris_2_DTI/bvec.bvec\" for option \"-fslgrad\" not found\u001b[0m\n",
      "\n",
      "Running: Denoising\n",
      "Error while processing Christburgh_Paris_2: No such file or no access: '/media/jimric/CDR1TB/PD_DWI_PROCESSING/Processing_Laxman/Reprocessing/Christburgh_Paris_2/Christburgh_Paris_2_DTI/dti.nii.gz'\n",
      "Starting Processing of Christburgh_Paris_3\n"
     ]
    },
    {
     "name": "stderr",
     "output_type": "stream",
     "text": [
      "Processing DTI Data:  12%|█▎        | 1/8 [00:00<00:00, 246.84step/s]\n"
     ]
    },
    {
     "name": "stdout",
     "output_type": "stream",
     "text": [
      "Running: Convert to MRtrix\n",
      "Command failed with code 1: mrconvert: \u001b[00;31m[WARNING] existing output files will be overwritten\u001b[0m\n",
      "mrconvert: \u001b[01;31m[ERROR] input file \"/media/jimric/CDR1TB/PD_DWI_PROCESSING/Processing_Laxman/Reprocessing/Christburgh_Paris_3/Christburgh_Paris_3_DTI/bvec.bvec\" for option \"-fslgrad\" not found\u001b[0m\n",
      "\n",
      "Running: Denoising\n",
      "Error while processing Christburgh_Paris_3: No such file or no access: '/media/jimric/CDR1TB/PD_DWI_PROCESSING/Processing_Laxman/Reprocessing/Christburgh_Paris_3/Christburgh_Paris_3_DTI/dti.nii.gz'\n",
      "Starting Processing of Cohen_David\n"
     ]
    },
    {
     "name": "stderr",
     "output_type": "stream",
     "text": [
      "Processing DTI Data:  12%|█▎        | 1/8 [00:00<00:00, 172.41step/s]\n"
     ]
    },
    {
     "name": "stdout",
     "output_type": "stream",
     "text": [
      "Running: Convert to MRtrix\n",
      "Command failed with code 1: mrconvert: \u001b[00;31m[WARNING] existing output files will be overwritten\u001b[0m\n",
      "mrconvert: \u001b[01;31m[ERROR] input file \"/media/jimric/CDR1TB/PD_DWI_PROCESSING/Processing_Laxman/Reprocessing/Cohen_David/Cohen_David_DTI/bvec.bvec\" for option \"-fslgrad\" not found\u001b[0m\n",
      "\n",
      "Running: Denoising\n",
      "Error while processing Cohen_David: No such file or no access: '/media/jimric/CDR1TB/PD_DWI_PROCESSING/Processing_Laxman/Reprocessing/Cohen_David/Cohen_David_DTI/dti.nii.gz'\n",
      "Starting Processing of Cohen_David_2\n"
     ]
    },
    {
     "name": "stderr",
     "output_type": "stream",
     "text": [
      "Processing DTI Data:  12%|█▎        | 1/8 [00:00<00:00, 326.79step/s]\n"
     ]
    },
    {
     "name": "stdout",
     "output_type": "stream",
     "text": [
      "Running: Convert to MRtrix\n",
      "Command failed with code 1: mrconvert: \u001b[00;31m[WARNING] existing output files will be overwritten\u001b[0m\n",
      "mrconvert: \u001b[01;31m[ERROR] input file \"/media/jimric/CDR1TB/PD_DWI_PROCESSING/Processing_Laxman/Reprocessing/Cohen_David_2/Cohen_David_2_DTI/bvec.bvec\" for option \"-fslgrad\" not found\u001b[0m\n",
      "\n",
      "Running: Denoising\n",
      "Error while processing Cohen_David_2: No such file or no access: '/media/jimric/CDR1TB/PD_DWI_PROCESSING/Processing_Laxman/Reprocessing/Cohen_David_2/Cohen_David_2_DTI/dti.nii.gz'\n",
      "Starting Processing of Simmons_Patricia\n"
     ]
    },
    {
     "name": "stderr",
     "output_type": "stream",
     "text": [
      "Processing DTI Data:  12%|█▎        | 1/8 [00:00<00:00, 300.80step/s]\n"
     ]
    },
    {
     "name": "stdout",
     "output_type": "stream",
     "text": [
      "Running: Convert to MRtrix\n",
      "Command failed with code 1: mrconvert: \u001b[00;31m[WARNING] existing output files will be overwritten\u001b[0m\n",
      "mrconvert: \u001b[01;31m[ERROR] input file \"/media/jimric/CDR1TB/PD_DWI_PROCESSING/Processing_Laxman/Reprocessing/Simmons_Patricia/Simmons_Patricia_DTI/bvec.bvec\" for option \"-fslgrad\" not found\u001b[0m\n",
      "\n",
      "Running: Denoising\n",
      "Error while processing Simmons_Patricia: No such file or no access: '/media/jimric/CDR1TB/PD_DWI_PROCESSING/Processing_Laxman/Reprocessing/Simmons_Patricia/Simmons_Patricia_DTI/dti.nii.gz'\n",
      "Starting Processing of Simmons_Patricia_2\n"
     ]
    },
    {
     "name": "stderr",
     "output_type": "stream",
     "text": [
      "Processing DTI Data:  12%|█▎        | 1/8 [00:00<00:00, 297.24step/s]"
     ]
    },
    {
     "name": "stdout",
     "output_type": "stream",
     "text": [
      "Running: Convert to MRtrix\n",
      "Command failed with code 1: mrconvert: \u001b[00;31m[WARNING] existing output files will be overwritten\u001b[0m\n",
      "mrconvert: \u001b[01;31m[ERROR] input file \"/media/jimric/CDR1TB/PD_DWI_PROCESSING/Processing_Laxman/Reprocessing/Simmons_Patricia_2/Simmons_Patricia_2_DTI/bvec.bvec\" for option \"-fslgrad\" not found\u001b[0m\n",
      "\n",
      "Running: Denoising\n",
      "Error while processing Simmons_Patricia_2: No such file or no access: '/media/jimric/CDR1TB/PD_DWI_PROCESSING/Processing_Laxman/Reprocessing/Simmons_Patricia_2/Simmons_Patricia_2_DTI/dti.nii.gz'\n"
     ]
    },
    {
     "name": "stderr",
     "output_type": "stream",
     "text": [
      "\n"
     ]
    }
   ],
   "source": [
    "import os\n",
    "os.environ['PATH'] += ':/Users/christianraimondo/ants-2.5.0/bin'\n",
    "nthreads = os.environ.get('MRTRIX_NTHREADS', 'Not set')\n",
    "print(f'MRTRIX_NTHREADS is {nthreads}')\n",
    "\n",
    "import tempfile\n",
    "import subprocess\n",
    "from tqdm import tqdm\n",
    "import numpy as np\n",
    "import nibabel as nib\n",
    "from dipy.denoise.nlmeans import nlmeans\n",
    "from dipy.denoise.noise_estimate import estimate_sigma\n",
    "from dipy.reconst.dti import gradient_table, TensorModel\n",
    "from dipy.reconst.dti import fractional_anisotropy, mean_diffusivity, color_fa\n",
    "from dipy.core.gradients import gradient_table\n",
    "import nibabel as nib\n",
    "from dipy.reconst.dti import TensorModel, mean_diffusivity, decompose_tensor\n",
    "import shutil   \n",
    "from dipy.io import read_bvals_bvecs\n",
    "\n",
    "\n",
    "def run_command(command, step_name):\n",
    "    print(f\"Running: {step_name}\")\n",
    "    result = subprocess.run(command, shell=True, text=True, stdout=subprocess.PIPE, stderr=subprocess.PIPE)\n",
    "    if result.returncode != 0:\n",
    "        print(f\"Command failed with code {result.returncode}: {result.stderr}\")\n",
    "    return result\n",
    "\n",
    "def denoise_dti(output_dir, dti_path, step_name):\n",
    "    print(f\"Running: {step_name}\")\n",
    "    img = nib.load(dti_path)\n",
    "    data = img.get_fdata()\n",
    "    sigma = estimate_sigma(data, N=4)  # N is the number of coils. Adjust as needed\n",
    "    denoised_data = nlmeans(data, sigma=sigma)\n",
    "    denoised_img = nib.Nifti1Image(denoised_data, img.affine)\n",
    "    denoised_dti_path = os.path.join(output_dir, \"dti_denoise.nii.gz\")\n",
    "    nib.save(denoised_img, denoised_dti_path)\n",
    "    return denoised_dti_path\n",
    "\n",
    "def fit_tensors_with_dipy(output_dir, bvec_path, bval_path, mask_path, step_name):\n",
    "    print(f\"Running: {step_name}\")\n",
    "    denoised_dti_path = os.path.join(output_dir, \"dti_denoise.nii.gz\")\n",
    "    dti_img = nib.load(denoised_dti_path)\n",
    "    data = dti_img.get_fdata()\n",
    "    affine = dti_img.affine\n",
    "    \n",
    "    bvals, bvecs = read_bvals_bvecs(bval_path, bvec_path)\n",
    "    gtab = gradient_table(bvals, bvecs)\n",
    "    mask = nib.load(mask_path).get_fdata().astype(bool)\n",
    "    \n",
    "    tenmodel = TensorModel(gtab)\n",
    "    tenfit = tenmodel.fit(data, mask)\n",
    "    \n",
    "    # Save the Fractional Anisotropy (FA)\n",
    "    FA_img = nib.Nifti1Image(tenfit.fa.astype(np.float32), affine)\n",
    "    nib.save(FA_img, os.path.join(output_dir, \"FA.nii.gz\"))\n",
    "    \n",
    "    # Save primary, secondary, and tertiary eigenvectors (V1, V2, V3)\n",
    "    for i, v in enumerate([tenfit.evecs[..., 0], tenfit.evecs[..., 1], tenfit.evecs[..., 2]]):\n",
    "        nib.save(nib.Nifti1Image(v.astype(np.float32), affine), os.path.join(output_dir, f\"V{i+1}.nii.gz\"))\n",
    "    \n",
    "    # Save the Mean Diffusivity (MD), Axial Diffusivity (AD), Radial Diffusivity (RD)\n",
    "    MD_img = nib.Nifti1Image(tenfit.md.astype(np.float32), affine)\n",
    "    nib.save(MD_img, os.path.join(output_dir, \"MD.nii.gz\"))\n",
    "    \n",
    "    RD_img = nib.Nifti1Image(tenfit.rd.astype(np.float32), affine)\n",
    "    nib.save(RD_img, os.path.join(output_dir, \"RD.nii.gz\"))\n",
    "    \n",
    "    AD_img = nib.Nifti1Image(tenfit.ad.astype(np.float32), affine)\n",
    "    nib.save(AD_img, os.path.join(output_dir, \"AD.nii.gz\"))\n",
    "    \n",
    "    # Save the eigenvalues (L1, L2, L3)\n",
    "    for i, l in enumerate([tenfit.evals[..., 0], tenfit.evals[..., 1], tenfit.evals[..., 2]]):\n",
    "        nib.save(nib.Nifti1Image(l.astype(np.float32), affine), os.path.join(output_dir, f\"L{i+1}.nii.gz\"))\n",
    "\n",
    "\n",
    "def process_dti(input_dir):\n",
    "    steps = [\"Convert to MRtrix\", \"Denoising\", \"Extract b0 Image\", \"Pre-process\", \"N4 Bias Correction\",\n",
    "             \"Convert to NIFTI for DIPY\", \"Create Brain Mask\", \"Tensor Fitting with DIPY\"]\n",
    "    \n",
    "    output_dir = os.path.join(input_dir, \"dti_outputs\")\n",
    "    os.makedirs(output_dir, exist_ok=True)\n",
    "    \n",
    "    dti_path = os.path.join(input_dir, \"dti.nii.gz\")\n",
    "    bvec_path = os.path.join(input_dir, \"bvec.bvec\")\n",
    "    bval_path = os.path.join(input_dir, \"bval.bval\")\n",
    "    \n",
    "    for i, step_name in enumerate(tqdm(steps, desc=\"Processing DTI Data\", unit=\"step\")):\n",
    "        if step_name == \"Convert to MRtrix\":\n",
    "            run_command(f\"mrconvert -fslgrad {bvec_path} {bval_path} {dti_path} {output_dir}/nii.mif -force\", step_name)\n",
    "        \n",
    "        elif step_name == \"Denoising\":\n",
    "            denoise_dti(output_dir, dti_path, step_name)\n",
    "        \n",
    "        elif step_name == \"Extract b0 Image\":\n",
    "            run_command(f\"dwiextract -bzero {output_dir}/nii.mif {output_dir}/b0.mif -force\", step_name)\n",
    "        \n",
    "        elif step_name == \"Pre-process\":\n",
    "            eddy_options = \"--slm=linear --data_is_shelled\"\n",
    "            run_command(f\"dwifslpreproc {output_dir}/nii.mif {output_dir}/dti_denoise_preproc.mif -nocleanup -rpe_none -pe_dir AP -eddy_options \\\"{eddy_options}\\\" -force\", step_name)\n",
    "        \n",
    "        elif step_name == \"N4 Bias Correction\":\n",
    "            run_command(f\"dwibiascorrect ants {output_dir}/dti_denoise_preproc.mif {output_dir}/dti_denoise_preproc_unbiased.mif -bias {output_dir}/bias.mif -force\", step_name)\n",
    "        \n",
    "        elif step_name == \"Convert to NIFTI for DIPY\":\n",
    "            run_command(f\"mrconvert {output_dir}/dti_denoise_preproc_unbiased.mif {output_dir}/dti_denoise_preproc_unbiased.nii -force\", step_name)\n",
    "        \n",
    "        elif step_name == \"Create Brain Mask\":\n",
    "            run_command(f\"dwi2mask {output_dir}/dti_denoise_preproc_unbiased.mif {output_dir}/mask.mif -force\", step_name)\n",
    "            run_command(f\"mrconvert {output_dir}/mask.mif {output_dir}/mask.nii -force\", step_name)\n",
    "        \n",
    "        elif step_name == \"Tensor Fitting with DIPY\":\n",
    "            fit_tensors_with_dipy(output_dir, bvec_path, bval_path, f\"{output_dir}/mask.nii\", step_name)\n",
    "\n",
    "\n",
    "\n",
    "#### Change names below for new patients, make sure they are in the base_path folder\n",
    "patient_folders = [\n",
    "    \"patient_name\",\n",
    "    \"patient_name\",\n",
    "    \"patient_name\",\n",
    "    \"patient_name\",\n",
    "    \"patient_name\",\n",
    "    \"patient_name\",\n",
    "    \"patient_name\",\n",
    "]\n",
    "\n",
    "base_path = \"/media/jimric/CDR1TB/PD_DWI_PROCESSING/Processing_Laxman/Reprocessing/\"\n",
    "\n",
    "# Ensure the function and script you're using is defined above this loop\n",
    "for patient in patient_folders:\n",
    "    patient_path = os.path.join(base_path, patient, f\"{patient}_DTI\")\n",
    "    try:\n",
    "        print(f\"Starting Processing of {patient}\")\n",
    "        process_dti(patient_path)\n",
    "        print(f\"Processing of {patient} completed successfully.\")\n",
    "    except Exception as e:\n",
    "        print(f\"Error while processing {patient}: {str(e)}\")\n",
    "\n"
   ]
  }
 ],
 "metadata": {
  "kernelspec": {
   "display_name": "base",
   "language": "python",
   "name": "python3"
  },
  "language_info": {
   "codemirror_mode": {
    "name": "ipython",
    "version": 3
   },
   "file_extension": ".py",
   "mimetype": "text/x-python",
   "name": "python",
   "nbconvert_exporter": "python",
   "pygments_lexer": "ipython3",
   "version": "3.10.10"
  }
 },
 "nbformat": 4,
 "nbformat_minor": 2
}
